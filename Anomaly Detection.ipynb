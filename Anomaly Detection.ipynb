{
 "cells": [
  {
   "cell_type": "code",
   "execution_count": 1,
   "metadata": {},
   "outputs": [],
   "source": [
    "import pandas as pd\n",
    "import numpy as np\n",
    "import os\n",
    "from sklearn.preprocessing import StandardScaler,MinMaxScaler"
   ]
  },
  {
   "cell_type": "code",
   "execution_count": 2,
   "metadata": {},
   "outputs": [],
   "source": [
    "outlier_fraction = 0.01\n",
    "df = pd.read_csv(os.getcwd()+\"\\\\Data\\\\realKnownCause\\\\realKnownCause\\\\ambient_temperature_system_failure.csv\")"
   ]
  },
  {
   "cell_type": "code",
   "execution_count": 3,
   "metadata": {},
   "outputs": [],
   "source": [
    "df[\"timestamp\"] = pd.to_datetime(df[\"timestamp\"])"
   ]
  },
  {
   "cell_type": "code",
   "execution_count": 4,
   "metadata": {},
   "outputs": [
    {
     "data": {
      "text/plain": [
       "<matplotlib.axes._subplots.AxesSubplot at 0x1a390b48cd0>"
      ]
     },
     "execution_count": 4,
     "metadata": {},
     "output_type": "execute_result"
    },
    {
     "data": {
      "image/png": "[encoded data removed]",
      "text/plain": [
       "<Figure size 432x288 with 1 Axes>"
      ]
     },
     "metadata": {
      "needs_background": "light"
     },
     "output_type": "display_data"
    }
   ],
   "source": [
    "df.plot(x=\"timestamp\",y=\"value\")"
   ]
  },
  {
   "cell_type": "code",
   "execution_count": 5,
   "metadata": {},
   "outputs": [
    {
     "data": {
      "text/plain": [
       "<matplotlib.axes._subplots.AxesSubplot at 0x1a392cdf640>"
      ]
     },
     "execution_count": 5,
     "metadata": {},
     "output_type": "execute_result"
    },
    {
     "data": {
      "image/png": "[encoded data removed]",
      "text/plain": [
       "<Figure size 432x288 with 1 Axes>"
      ]
     },
     "metadata": {
      "needs_background": "light"
     },
     "output_type": "display_data"
    }
   ],
   "source": [
    "df[\"value\"].hist()"
   ]
  },
  {
   "cell_type": "code",
   "execution_count": 6,
   "metadata": {},
   "outputs": [],
   "source": [
    "df[\"hour\"]=df[\"timestamp\"].dt.hour\n",
    "df[\"DayofWeek\"] = df[\"timestamp\"].dt.dayofweek"
   ]
  },
  {
   "cell_type": "code",
   "execution_count": 7,
   "metadata": {},
   "outputs": [],
   "source": [
    "df['WeekDay'] = (df['DayofWeek'] < 5).astype(int)"
   ]
  },
  {
   "cell_type": "code",
   "execution_count": 8,
   "metadata": {},
   "outputs": [],
   "source": [
    "df['daylight'] = ((df['hour'] >= 7) & (df['hour'] <= 22)).astype(int)"
   ]
  },
  {
   "cell_type": "code",
   "execution_count": 9,
   "metadata": {},
   "outputs": [
    {
     "data": {
      "text/plain": [
       "1    5243\n",
       "0    2024\n",
       "Name: WeekDay, dtype: int64"
      ]
     },
     "execution_count": 9,
     "metadata": {},
     "output_type": "execute_result"
    }
   ],
   "source": [
    "df[\"WeekDay\"].value_counts()"
   ]
  },
  {
   "cell_type": "code",
   "execution_count": 10,
   "metadata": {},
   "outputs": [],
   "source": [
    "from sklearn.preprocessing import MinMaxScaler"
   ]
  },
  {
   "cell_type": "code",
   "execution_count": 11,
   "metadata": {},
   "outputs": [],
   "source": [
    "data = df[[\"value\",\"hour\",\"DayofWeek\",\"WeekDay\",\"daylight\"]]"
   ]
  },
  {
   "cell_type": "code",
   "execution_count": 12,
   "metadata": {},
   "outputs": [],
   "source": [
    "minmax = MinMaxScaler()\n",
    "scaled_data = minmax.fit_transform(data)"
   ]
  },
  {
   "cell_type": "code",
   "execution_count": 13,
   "metadata": {},
   "outputs": [],
   "source": [
    "data=pd.DataFrame(scaled_data)"
   ]
  },
  {
   "cell_type": "code",
   "execution_count": 14,
   "metadata": {},
   "outputs": [],
   "source": [
    "from sklearn.decomposition import PCA\n",
    "pc = PCA(n_components=2)"
   ]
  },
  {
   "cell_type": "code",
   "execution_count": 15,
   "metadata": {},
   "outputs": [],
   "source": [
    "dim_red_data = pc.fit_transform(data)"
   ]
  },
  {
   "cell_type": "code",
   "execution_count": 16,
   "metadata": {},
   "outputs": [],
   "source": [
    "scaler = StandardScaler()"
   ]
  },
  {
   "cell_type": "code",
   "execution_count": 17,
   "metadata": {},
   "outputs": [],
   "source": [
    "dim_red_data2 = scaler.fit_transform(dim_red_data)"
   ]
  },
  {
   "cell_type": "code",
   "execution_count": 18,
   "metadata": {},
   "outputs": [
    {
     "data": {
      "text/html": [
       "<div>\n",
       "<style scoped>\n",
       "    .dataframe tbody tr th:only-of-type {\n",
       "        vertical-align: middle;\n",
       "    }\n",
       "\n",
       "    .dataframe tbody tr th {\n",
       "        vertical-align: top;\n",
       "    }\n",
       "\n",
       "    .dataframe thead th {\n",
       "        text-align: right;\n",
       "    }\n",
       "</style>\n",
       "<table border=\"1\" class=\"dataframe\">\n",
       "  <thead>\n",
       "    <tr style=\"text-align: right;\">\n",
       "      <th></th>\n",
       "      <th>0</th>\n",
       "      <th>1</th>\n",
       "    </tr>\n",
       "  </thead>\n",
       "  <tbody>\n",
       "    <tr>\n",
       "      <th>0</th>\n",
       "      <td>-0.235858</td>\n",
       "      <td>1.636088</td>\n",
       "    </tr>\n",
       "    <tr>\n",
       "      <th>1</th>\n",
       "      <td>-0.245149</td>\n",
       "      <td>1.597195</td>\n",
       "    </tr>\n",
       "    <tr>\n",
       "      <th>2</th>\n",
       "      <td>-0.248571</td>\n",
       "      <td>1.560250</td>\n",
       "    </tr>\n",
       "    <tr>\n",
       "      <th>3</th>\n",
       "      <td>-0.246493</td>\n",
       "      <td>1.525131</td>\n",
       "    </tr>\n",
       "    <tr>\n",
       "      <th>4</th>\n",
       "      <td>-0.252241</td>\n",
       "      <td>1.487415</td>\n",
       "    </tr>\n",
       "    <tr>\n",
       "      <th>...</th>\n",
       "      <td>...</td>\n",
       "      <td>...</td>\n",
       "    </tr>\n",
       "    <tr>\n",
       "      <th>7262</th>\n",
       "      <td>-0.673435</td>\n",
       "      <td>-0.479781</td>\n",
       "    </tr>\n",
       "    <tr>\n",
       "      <th>7263</th>\n",
       "      <td>-0.677364</td>\n",
       "      <td>-0.516894</td>\n",
       "    </tr>\n",
       "    <tr>\n",
       "      <th>7264</th>\n",
       "      <td>-0.681539</td>\n",
       "      <td>-0.554089</td>\n",
       "    </tr>\n",
       "    <tr>\n",
       "      <th>7265</th>\n",
       "      <td>-0.685384</td>\n",
       "      <td>-0.591174</td>\n",
       "    </tr>\n",
       "    <tr>\n",
       "      <th>7266</th>\n",
       "      <td>-0.692649</td>\n",
       "      <td>-0.629394</td>\n",
       "    </tr>\n",
       "  </tbody>\n",
       "</table>\n",
       "<p>7267 rows × 2 columns</p>\n",
       "</div>"
      ],
      "text/plain": [
       "             0         1\n",
       "0    -0.235858  1.636088\n",
       "1    -0.245149  1.597195\n",
       "2    -0.248571  1.560250\n",
       "3    -0.246493  1.525131\n",
       "4    -0.252241  1.487415\n",
       "...        ...       ...\n",
       "7262 -0.673435 -0.479781\n",
       "7263 -0.677364 -0.516894\n",
       "7264 -0.681539 -0.554089\n",
       "7265 -0.685384 -0.591174\n",
       "7266 -0.692649 -0.629394\n",
       "\n",
       "[7267 rows x 2 columns]"
      ]
     },
     "execution_count": 18,
     "metadata": {},
     "output_type": "execute_result"
    }
   ],
   "source": [
    "pd.DataFrame(dim_red_data2)"
   ]
  },
  {
   "cell_type": "code",
   "execution_count": 19,
   "metadata": {},
   "outputs": [],
   "source": [
    "from sklearn.cluster import KMeans\n",
    "k_cluster = KMeans(n_clusters=4)"
   ]
  },
  {
   "cell_type": "code",
   "execution_count": 20,
   "metadata": {},
   "outputs": [
    {
     "data": {
      "text/html": [
       "<style>#sk-container-id-1 {color: black;background-color: white;}#sk-container-id-1 pre{padding: 0;}#sk-container-id-1 div.sk-toggleable {background-color: white;}#sk-container-id-1 label.sk-toggleable__label {cursor: pointer;display: block;width: 100%;margin-bottom: 0;padding: 0.3em;box-sizing: border-box;text-align: center;}#sk-container-id-1 label.sk-toggleable__label-arrow:before {content: \"▸\";float: left;margin-right: 0.25em;color: #696969;}#sk-container-id-1 label.sk-toggleable__label-arrow:hover:before {color: black;}#sk-container-id-1 div.sk-estimator:hover label.sk-toggleable__label-arrow:before {color: black;}#sk-container-id-1 div.sk-toggleable__content {max-height: 0;max-width: 0;overflow: hidden;text-align: left;background-color: #f0f8ff;}#sk-container-id-1 div.sk-toggleable__content pre {margin: 0.2em;color: black;border-radius: 0.25em;background-color: #f0f8ff;}#sk-container-id-1 input.sk-toggleable__control:checked~div.sk-toggleable__content {max-height: 200px;max-width: 100%;overflow: auto;}#sk-container-id-1 input.sk-toggleable__control:checked~label.sk-toggleable__label-arrow:before {content: \"▾\";}#sk-container-id-1 div.sk-estimator input.sk-toggleable__control:checked~label.sk-toggleable__label {background-color: #d4ebff;}#sk-container-id-1 div.sk-label input.sk-toggleable__control:checked~label.sk-toggleable__label {background-color: #d4ebff;}#sk-container-id-1 input.sk-hidden--visually {border: 0;clip: rect(1px 1px 1px 1px);clip: rect(1px, 1px, 1px, 1px);height: 1px;margin: -1px;overflow: hidden;padding: 0;position: absolute;width: 1px;}#sk-container-id-1 div.sk-estimator {font-family: monospace;background-color: #f0f8ff;border: 1px dotted black;border-radius: 0.25em;box-sizing: border-box;margin-bottom: 0.5em;}#sk-container-id-1 div.sk-estimator:hover {background-color: #d4ebff;}#sk-container-id-1 div.sk-parallel-item::after {content: \"\";width: 100%;border-bottom: 1px solid gray;flex-grow: 1;}#sk-container-id-1 div.sk-label:hover label.sk-toggleable__label {background-color: #d4ebff;}#sk-container-id-1 div.sk-serial::before {content: \"\";position: absolute;border-left: 1px solid gray;box-sizing: border-box;top: 0;bottom: 0;left: 50%;z-index: 0;}#sk-container-id-1 div.sk-serial {display: flex;flex-direction: column;align-items: center;background-color: white;padding-right: 0.2em;padding-left: 0.2em;position: relative;}#sk-container-id-1 div.sk-item {position: relative;z-index: 1;}#sk-container-id-1 div.sk-parallel {display: flex;align-items: stretch;justify-content: center;background-color: white;position: relative;}#sk-container-id-1 div.sk-item::before, #sk-container-id-1 div.sk-parallel-item::before {content: \"\";position: absolute;border-left: 1px solid gray;box-sizing: border-box;top: 0;bottom: 0;left: 50%;z-index: -1;}#sk-container-id-1 div.sk-parallel-item {display: flex;flex-direction: column;z-index: 1;position: relative;background-color: white;}#sk-container-id-1 div.sk-parallel-item:first-child::after {align-self: flex-end;width: 50%;}#sk-container-id-1 div.sk-parallel-item:last-child::after {align-self: flex-start;width: 50%;}#sk-container-id-1 div.sk-parallel-item:only-child::after {width: 0;}#sk-container-id-1 div.sk-dashed-wrapped {border: 1px dashed gray;margin: 0 0.4em 0.5em 0.4em;box-sizing: border-box;padding-bottom: 0.4em;background-color: white;}#sk-container-id-1 div.sk-label label {font-family: monospace;font-weight: bold;display: inline-block;line-height: 1.2em;}#sk-container-id-1 div.sk-label-container {text-align: center;}#sk-container-id-1 div.sk-container {/* jupyter's `normalize.less` sets `[hidden] { display: none; }` but bootstrap.min.css set `[hidden] { display: none !important; }` so we also need the `!important` here to be able to override the default hidden behavior on the sphinx rendered scikit-learn.org. See: https://github.com/scikit-learn/scikit-learn/issues/21755 */display: inline-block !important;position: relative;}#sk-container-id-1 div.sk-text-repr-fallback {display: none;}</style><div id=\"sk-container-id-1\" class=\"sk-top-container\"><div class=\"sk-text-repr-fallback\"><pre>KMeans(n_clusters=4)</pre><b>In a Jupyter environment, please rerun this cell to show the HTML representation or trust the notebook. <br />On GitHub, the HTML representation is unable to render, please try loading this page with nbviewer.org.</b></div><div class=\"sk-container\" hidden><div class=\"sk-item\"><div class=\"sk-estimator sk-toggleable\"><input class=\"sk-toggleable__control sk-hidden--visually\" id=\"sk-estimator-id-1\" type=\"checkbox\" checked><label for=\"sk-estimator-id-1\" class=\"sk-toggleable__label sk-toggleable__label-arrow\">KMeans</label><div class=\"sk-toggleable__content\"><pre>KMeans(n_clusters=4)</pre></div></div></div></div></div>"
      ],
      "text/plain": [
       "KMeans(n_clusters=4)"
      ]
     },
     "execution_count": 20,
     "metadata": {},
     "output_type": "execute_result"
    }
   ],
   "source": [
    "k_cluster.fit(dim_red_data2)"
   ]
  },
  {
   "cell_type": "code",
   "execution_count": 21,
   "metadata": {},
   "outputs": [
    {
     "data": {
      "text/plain": [
       "'1.21.4'"
      ]
     },
     "execution_count": 21,
     "metadata": {},
     "output_type": "execute_result"
    }
   ],
   "source": [
    "import numpy\n",
    "numpy.__version__\n",
    "#==1.21.4"
   ]
  },
  {
   "cell_type": "code",
   "execution_count": 22,
   "metadata": {},
   "outputs": [],
   "source": [
    "df[\"cluster_no\"]=k_cluster.predict(dim_red_data2)"
   ]
  },
  {
   "cell_type": "code",
   "execution_count": 23,
   "metadata": {},
   "outputs": [
    {
     "data": {
      "text/plain": [
       "0    3502\n",
       "3    1741\n",
       "1    1344\n",
       "2     680\n",
       "Name: cluster_no, dtype: int64"
      ]
     },
     "execution_count": 23,
     "metadata": {},
     "output_type": "execute_result"
    }
   ],
   "source": [
    "df[\"cluster_no\"].value_counts()"
   ]
  },
  {
   "cell_type": "code",
   "execution_count": 24,
   "metadata": {},
   "outputs": [],
   "source": [
    "df[\"prin_feature1\"] = pd.DataFrame(dim_red_data2)[0]\n",
    "\n",
    "df[\"prin_feature2\"] = pd.DataFrame(dim_red_data2)[1]\n",
    "\n",
    "# dim_red_data2[1] "
   ]
  },
  {
   "cell_type": "code",
   "execution_count": 25,
   "metadata": {},
   "outputs": [],
   "source": [
    "colors = {0:'red', 1:'blue', 2:'green', 3:'pink'}"
   ]
  },
  {
   "cell_type": "code",
   "execution_count": 26,
   "metadata": {},
   "outputs": [],
   "source": [
    "import seaborn as sns"
   ]
  },
  {
   "cell_type": "code",
   "execution_count": 36,
   "metadata": {},
   "outputs": [
    {
     "data": {
      "text/plain": [
       "<matplotlib.axes._subplots.AxesSubplot at 0x1a3950c0c70>"
      ]
     },
     "execution_count": 36,
     "metadata": {},
     "output_type": "execute_result"
    },
    {
     "data": {
      "image/png": "[encoded data removed]",
      "text/plain": [
       "<Figure size 432x288 with 1 Axes>"
      ]
     },
     "metadata": {
      "needs_background": "light"
     },
     "output_type": "display_data"
    }
   ],
   "source": [
    "sns.scatterplot(x=df[\"prin_feature1\"],y=df[\"prin_feature2\"])#,df[\"cluster_no\"].apply(lambda x:colors[x]))"
   ]
  },
  {
   "cell_type": "code",
   "execution_count": 53,
   "metadata": {},
   "outputs": [
    {
     "data": {
      "text/plain": [
       "-0.4343255653799379"
      ]
     },
     "execution_count": 53,
     "metadata": {},
     "output_type": "execute_result"
    }
   ],
   "source": [
    "# k_cluster.cluster_centers_[k_cluster.labels_]\n",
    "# set(k_cluster.labels_)\n",
    "k_cluster.cluster_centers_[3][0]"
   ]
  },
  {
   "cell_type": "code",
   "execution_count": 37,
   "metadata": {},
   "outputs": [
    {
     "data": {
      "text/plain": [
       "0    3502\n",
       "3    1741\n",
       "1    1344\n",
       "2     680\n",
       "Name: cluster_no, dtype: int64"
      ]
     },
     "execution_count": 37,
     "metadata": {},
     "output_type": "execute_result"
    }
   ],
   "source": [
    "df[\"cluster_no\"].value_counts()"
   ]
  },
  {
   "cell_type": "code",
   "execution_count": 41,
   "metadata": {},
   "outputs": [],
   "source": [
    "dim_red_data2 = pd.DataFrame(dim_red_data2)"
   ]
  },
  {
   "cell_type": "code",
   "execution_count": 54,
   "metadata": {},
   "outputs": [],
   "source": [
    "df[\"clust_cent_p1\"] = df[\"cluster_no\"].apply(lambda x: k_cluster.cluster_centers_[x][0])\n",
    "df[\"clust_cent_p2\"] = df[\"cluster_no\"].apply(lambda x: k_cluster.cluster_centers_[x][1])"
   ]
  },
  {
   "cell_type": "code",
   "execution_count": 65,
   "metadata": {},
   "outputs": [],
   "source": [
    "import math\n",
    "\n",
    "df[\"distance\"] = (df[\"prin_feature1\"]-df[\"clust_cent_p1\"])**2 + (df[\"prin_feature2\"]-df[\"clust_cent_p2\"])**2\n",
    "df[\"distance\"] = df[\"distance\"].apply(lambda x: math.sqrt(x))"
   ]
  },
  {
   "cell_type": "code",
   "execution_count": 77,
   "metadata": {},
   "outputs": [],
   "source": [
    "dict_threshold={}"
   ]
  },
  {
   "cell_type": "code",
   "execution_count": 86,
   "metadata": {},
   "outputs": [
    {
     "data": {
      "text/plain": [
       "cluster_no\n",
       "0    35.0\n",
       "1    13.0\n",
       "2     7.0\n",
       "3    17.0\n",
       "Name: distance, dtype: float64"
      ]
     },
     "execution_count": 86,
     "metadata": {},
     "output_type": "execute_result"
    }
   ],
   "source": [
    "round(df.groupby(df[\"cluster_no\"])[\"distance\"].count()*0.01)"
   ]
  },
  {
   "cell_type": "code",
   "execution_count": 120,
   "metadata": {},
   "outputs": [],
   "source": [
    "dict_threshold=round(df.groupby(df[\"cluster_no\"])[\"distance\"].count()*0.01).to_dict()"
   ]
  },
  {
   "cell_type": "code",
   "execution_count": 129,
   "metadata": {},
   "outputs": [],
   "source": [
    "def return_threshold_dist(cluster_no):\n",
    "    return df[df[\"cluster_no\"]==cluster_no].sort_values(by=\"distance\",ascending=False).head(int(dict_threshold[cluster_no]))[\"distance\"].min()"
   ]
  },
  {
   "cell_type": "code",
   "execution_count": 135,
   "metadata": {
    "scrolled": true
   },
   "outputs": [],
   "source": [
    "df[\"anomaly\"]=(df[\"distance\"] >= df[\"cluster_no\"].apply(return_threshold_dist)).astype(int)"
   ]
  },
  {
   "cell_type": "code",
   "execution_count": 137,
   "metadata": {},
   "outputs": [
    {
     "data": {
      "text/plain": [
       "{0: 35.0, 1: 13.0, 2: 7.0, 3: 17.0}"
      ]
     },
     "execution_count": 137,
     "metadata": {},
     "output_type": "execute_result"
    }
   ],
   "source": [
    "dict_threshold"
   ]
  },
  {
   "cell_type": "code",
   "execution_count": 156,
   "metadata": {},
   "outputs": [
    {
     "data": {
      "text/html": [
       "<div>\n",
       "<style scoped>\n",
       "    .dataframe tbody tr th:only-of-type {\n",
       "        vertical-align: middle;\n",
       "    }\n",
       "\n",
       "    .dataframe tbody tr th {\n",
       "        vertical-align: top;\n",
       "    }\n",
       "\n",
       "    .dataframe thead th {\n",
       "        text-align: right;\n",
       "    }\n",
       "</style>\n",
       "<table border=\"1\" class=\"dataframe\">\n",
       "  <thead>\n",
       "    <tr style=\"text-align: right;\">\n",
       "      <th></th>\n",
       "      <th>timestamp</th>\n",
       "      <th>value</th>\n",
       "      <th>hour</th>\n",
       "      <th>DayofWeek</th>\n",
       "      <th>WeekDay</th>\n",
       "      <th>daylight</th>\n",
       "      <th>cluster_no</th>\n",
       "      <th>prin_feature1</th>\n",
       "      <th>prin_feature2</th>\n",
       "      <th>clust_cent_p1</th>\n",
       "      <th>clust_cent_p2</th>\n",
       "      <th>distance</th>\n",
       "      <th>anomaly</th>\n",
       "    </tr>\n",
       "  </thead>\n",
       "  <tbody>\n",
       "    <tr>\n",
       "      <th>591</th>\n",
       "      <td>2013-07-29 23:00:00</td>\n",
       "      <td>74.798114</td>\n",
       "      <td>23</td>\n",
       "      <td>0</td>\n",
       "      <td>1</td>\n",
       "      <td>0</td>\n",
       "      <td>3</td>\n",
       "      <td>-0.884460</td>\n",
       "      <td>0.836588</td>\n",
       "      <td>-0.434326</td>\n",
       "      <td>1.449822</td>\n",
       "      <td>0.760708</td>\n",
       "      <td>1</td>\n",
       "    </tr>\n",
       "    <tr>\n",
       "      <th>1561</th>\n",
       "      <td>2013-09-16 23:00:00</td>\n",
       "      <td>74.895476</td>\n",
       "      <td>23</td>\n",
       "      <td>0</td>\n",
       "      <td>1</td>\n",
       "      <td>0</td>\n",
       "      <td>3</td>\n",
       "      <td>-0.884800</td>\n",
       "      <td>0.836475</td>\n",
       "      <td>-0.434326</td>\n",
       "      <td>1.449822</td>\n",
       "      <td>0.761000</td>\n",
       "      <td>1</td>\n",
       "    </tr>\n",
       "    <tr>\n",
       "      <th>1970</th>\n",
       "      <td>2013-10-07 23:00:00</td>\n",
       "      <td>74.715103</td>\n",
       "      <td>23</td>\n",
       "      <td>0</td>\n",
       "      <td>1</td>\n",
       "      <td>0</td>\n",
       "      <td>3</td>\n",
       "      <td>-0.884170</td>\n",
       "      <td>0.836684</td>\n",
       "      <td>-0.434326</td>\n",
       "      <td>1.449822</td>\n",
       "      <td>0.760459</td>\n",
       "      <td>1</td>\n",
       "    </tr>\n",
       "    <tr>\n",
       "      <th>2236</th>\n",
       "      <td>2013-10-21 23:00:00</td>\n",
       "      <td>73.435383</td>\n",
       "      <td>23</td>\n",
       "      <td>0</td>\n",
       "      <td>1</td>\n",
       "      <td>0</td>\n",
       "      <td>3</td>\n",
       "      <td>-0.879704</td>\n",
       "      <td>0.838167</td>\n",
       "      <td>-0.434326</td>\n",
       "      <td>1.449822</td>\n",
       "      <td>0.756627</td>\n",
       "      <td>1</td>\n",
       "    </tr>\n",
       "    <tr>\n",
       "      <th>2404</th>\n",
       "      <td>2013-10-28 23:00:00</td>\n",
       "      <td>73.644009</td>\n",
       "      <td>23</td>\n",
       "      <td>0</td>\n",
       "      <td>1</td>\n",
       "      <td>0</td>\n",
       "      <td>3</td>\n",
       "      <td>-0.880433</td>\n",
       "      <td>0.837925</td>\n",
       "      <td>-0.434326</td>\n",
       "      <td>1.449822</td>\n",
       "      <td>0.757251</td>\n",
       "      <td>1</td>\n",
       "    </tr>\n",
       "    <tr>\n",
       "      <th>2572</th>\n",
       "      <td>2013-11-04 23:00:00</td>\n",
       "      <td>75.880115</td>\n",
       "      <td>23</td>\n",
       "      <td>0</td>\n",
       "      <td>1</td>\n",
       "      <td>0</td>\n",
       "      <td>3</td>\n",
       "      <td>-0.888236</td>\n",
       "      <td>0.835335</td>\n",
       "      <td>-0.434326</td>\n",
       "      <td>1.449822</td>\n",
       "      <td>0.763956</td>\n",
       "      <td>1</td>\n",
       "    </tr>\n",
       "    <tr>\n",
       "      <th>2740</th>\n",
       "      <td>2013-11-11 23:00:00</td>\n",
       "      <td>75.272675</td>\n",
       "      <td>23</td>\n",
       "      <td>0</td>\n",
       "      <td>1</td>\n",
       "      <td>0</td>\n",
       "      <td>3</td>\n",
       "      <td>-0.886116</td>\n",
       "      <td>0.836039</td>\n",
       "      <td>-0.434326</td>\n",
       "      <td>1.449822</td>\n",
       "      <td>0.762132</td>\n",
       "      <td>1</td>\n",
       "    </tr>\n",
       "    <tr>\n",
       "      <th>3076</th>\n",
       "      <td>2013-11-25 23:00:00</td>\n",
       "      <td>75.995506</td>\n",
       "      <td>23</td>\n",
       "      <td>0</td>\n",
       "      <td>1</td>\n",
       "      <td>0</td>\n",
       "      <td>3</td>\n",
       "      <td>-0.888639</td>\n",
       "      <td>0.835201</td>\n",
       "      <td>-0.434326</td>\n",
       "      <td>1.449822</td>\n",
       "      <td>0.764303</td>\n",
       "      <td>1</td>\n",
       "    </tr>\n",
       "    <tr>\n",
       "      <th>3244</th>\n",
       "      <td>2013-12-02 23:00:00</td>\n",
       "      <td>76.088931</td>\n",
       "      <td>23</td>\n",
       "      <td>0</td>\n",
       "      <td>1</td>\n",
       "      <td>0</td>\n",
       "      <td>3</td>\n",
       "      <td>-0.888965</td>\n",
       "      <td>0.835093</td>\n",
       "      <td>-0.434326</td>\n",
       "      <td>1.449822</td>\n",
       "      <td>0.764584</td>\n",
       "      <td>1</td>\n",
       "    </tr>\n",
       "    <tr>\n",
       "      <th>3412</th>\n",
       "      <td>2013-12-09 23:00:00</td>\n",
       "      <td>74.540686</td>\n",
       "      <td>23</td>\n",
       "      <td>0</td>\n",
       "      <td>1</td>\n",
       "      <td>0</td>\n",
       "      <td>3</td>\n",
       "      <td>-0.883562</td>\n",
       "      <td>0.836886</td>\n",
       "      <td>-0.434326</td>\n",
       "      <td>1.449822</td>\n",
       "      <td>0.759936</td>\n",
       "      <td>1</td>\n",
       "    </tr>\n",
       "    <tr>\n",
       "      <th>3580</th>\n",
       "      <td>2013-12-16 23:00:00</td>\n",
       "      <td>76.798080</td>\n",
       "      <td>23</td>\n",
       "      <td>0</td>\n",
       "      <td>1</td>\n",
       "      <td>0</td>\n",
       "      <td>3</td>\n",
       "      <td>-0.891440</td>\n",
       "      <td>0.834271</td>\n",
       "      <td>-0.434326</td>\n",
       "      <td>1.449822</td>\n",
       "      <td>0.766717</td>\n",
       "      <td>1</td>\n",
       "    </tr>\n",
       "    <tr>\n",
       "      <th>3748</th>\n",
       "      <td>2013-12-23 23:00:00</td>\n",
       "      <td>80.243625</td>\n",
       "      <td>23</td>\n",
       "      <td>0</td>\n",
       "      <td>1</td>\n",
       "      <td>0</td>\n",
       "      <td>3</td>\n",
       "      <td>-0.903464</td>\n",
       "      <td>0.830280</td>\n",
       "      <td>-0.434326</td>\n",
       "      <td>1.449822</td>\n",
       "      <td>0.777124</td>\n",
       "      <td>1</td>\n",
       "    </tr>\n",
       "    <tr>\n",
       "      <th>3916</th>\n",
       "      <td>2013-12-30 23:00:00</td>\n",
       "      <td>77.721081</td>\n",
       "      <td>23</td>\n",
       "      <td>0</td>\n",
       "      <td>1</td>\n",
       "      <td>0</td>\n",
       "      <td>3</td>\n",
       "      <td>-0.894661</td>\n",
       "      <td>0.833202</td>\n",
       "      <td>-0.434326</td>\n",
       "      <td>1.449822</td>\n",
       "      <td>0.769498</td>\n",
       "      <td>1</td>\n",
       "    </tr>\n",
       "    <tr>\n",
       "      <th>4084</th>\n",
       "      <td>2014-01-06 23:00:00</td>\n",
       "      <td>75.716306</td>\n",
       "      <td>23</td>\n",
       "      <td>0</td>\n",
       "      <td>1</td>\n",
       "      <td>0</td>\n",
       "      <td>3</td>\n",
       "      <td>-0.887664</td>\n",
       "      <td>0.835525</td>\n",
       "      <td>-0.434326</td>\n",
       "      <td>1.449822</td>\n",
       "      <td>0.763464</td>\n",
       "      <td>1</td>\n",
       "    </tr>\n",
       "    <tr>\n",
       "      <th>4252</th>\n",
       "      <td>2014-01-13 23:00:00</td>\n",
       "      <td>77.180144</td>\n",
       "      <td>23</td>\n",
       "      <td>0</td>\n",
       "      <td>1</td>\n",
       "      <td>0</td>\n",
       "      <td>3</td>\n",
       "      <td>-0.892773</td>\n",
       "      <td>0.833829</td>\n",
       "      <td>-0.434326</td>\n",
       "      <td>1.449822</td>\n",
       "      <td>0.767868</td>\n",
       "      <td>1</td>\n",
       "    </tr>\n",
       "    <tr>\n",
       "      <th>4420</th>\n",
       "      <td>2014-01-20 23:00:00</td>\n",
       "      <td>75.506361</td>\n",
       "      <td>23</td>\n",
       "      <td>0</td>\n",
       "      <td>1</td>\n",
       "      <td>0</td>\n",
       "      <td>3</td>\n",
       "      <td>-0.886932</td>\n",
       "      <td>0.835768</td>\n",
       "      <td>-0.434326</td>\n",
       "      <td>1.449822</td>\n",
       "      <td>0.762833</td>\n",
       "      <td>1</td>\n",
       "    </tr>\n",
       "    <tr>\n",
       "      <th>4756</th>\n",
       "      <td>2014-02-03 23:00:00</td>\n",
       "      <td>73.905162</td>\n",
       "      <td>23</td>\n",
       "      <td>0</td>\n",
       "      <td>1</td>\n",
       "      <td>0</td>\n",
       "      <td>3</td>\n",
       "      <td>-0.881344</td>\n",
       "      <td>0.837623</td>\n",
       "      <td>-0.434326</td>\n",
       "      <td>1.449822</td>\n",
       "      <td>0.758032</td>\n",
       "      <td>1</td>\n",
       "    </tr>\n",
       "  </tbody>\n",
       "</table>\n",
       "</div>"
      ],
      "text/plain": [
       "               timestamp      value  hour  DayofWeek  WeekDay  daylight  \\\n",
       "591  2013-07-29 23:00:00  74.798114    23          0        1         0   \n",
       "1561 2013-09-16 23:00:00  74.895476    23          0        1         0   \n",
       "1970 2013-10-07 23:00:00  74.715103    23          0        1         0   \n",
       "2236 2013-10-21 23:00:00  73.435383    23          0        1         0   \n",
       "2404 2013-10-28 23:00:00  73.644009    23          0        1         0   \n",
       "2572 2013-11-04 23:00:00  75.880115    23          0        1         0   \n",
       "2740 2013-11-11 23:00:00  75.272675    23          0        1         0   \n",
       "3076 2013-11-25 23:00:00  75.995506    23          0        1         0   \n",
       "3244 2013-12-02 23:00:00  76.088931    23          0        1         0   \n",
       "3412 2013-12-09 23:00:00  74.540686    23          0        1         0   \n",
       "3580 2013-12-16 23:00:00  76.798080    23          0        1         0   \n",
       "3748 2013-12-23 23:00:00  80.243625    23          0        1         0   \n",
       "3916 2013-12-30 23:00:00  77.721081    23          0        1         0   \n",
       "4084 2014-01-06 23:00:00  75.716306    23          0        1         0   \n",
       "4252 2014-01-13 23:00:00  77.180144    23          0        1         0   \n",
       "4420 2014-01-20 23:00:00  75.506361    23          0        1         0   \n",
       "4756 2014-02-03 23:00:00  73.905162    23          0        1         0   \n",
       "\n",
       "      cluster_no  prin_feature1  prin_feature2  clust_cent_p1  clust_cent_p2  \\\n",
       "591            3      -0.884460       0.836588      -0.434326       1.449822   \n",
       "1561           3      -0.884800       0.836475      -0.434326       1.449822   \n",
       "1970           3      -0.884170       0.836684      -0.434326       1.449822   \n",
       "2236           3      -0.879704       0.838167      -0.434326       1.449822   \n",
       "2404           3      -0.880433       0.837925      -0.434326       1.449822   \n",
       "2572           3      -0.888236       0.835335      -0.434326       1.449822   \n",
       "2740           3      -0.886116       0.836039      -0.434326       1.449822   \n",
       "3076           3      -0.888639       0.835201      -0.434326       1.449822   \n",
       "3244           3      -0.888965       0.835093      -0.434326       1.449822   \n",
       "3412           3      -0.883562       0.836886      -0.434326       1.449822   \n",
       "3580           3      -0.891440       0.834271      -0.434326       1.449822   \n",
       "3748           3      -0.903464       0.830280      -0.434326       1.449822   \n",
       "3916           3      -0.894661       0.833202      -0.434326       1.449822   \n",
       "4084           3      -0.887664       0.835525      -0.434326       1.449822   \n",
       "4252           3      -0.892773       0.833829      -0.434326       1.449822   \n",
       "4420           3      -0.886932       0.835768      -0.434326       1.449822   \n",
       "4756           3      -0.881344       0.837623      -0.434326       1.449822   \n",
       "\n",
       "      distance  anomaly  \n",
       "591   0.760708        1  \n",
       "1561  0.761000        1  \n",
       "1970  0.760459        1  \n",
       "2236  0.756627        1  \n",
       "2404  0.757251        1  \n",
       "2572  0.763956        1  \n",
       "2740  0.762132        1  \n",
       "3076  0.764303        1  \n",
       "3244  0.764584        1  \n",
       "3412  0.759936        1  \n",
       "3580  0.766717        1  \n",
       "3748  0.777124        1  \n",
       "3916  0.769498        1  \n",
       "4084  0.763464        1  \n",
       "4252  0.767868        1  \n",
       "4420  0.762833        1  \n",
       "4756  0.758032        1  "
      ]
     },
     "execution_count": 156,
     "metadata": {},
     "output_type": "execute_result"
    }
   ],
   "source": [
    "df.loc[(df[\"cluster_no\"]==3) & (df[\"anomaly\"]==1)]"
   ]
  },
  {
   "cell_type": "code",
   "execution_count": null,
   "metadata": {},
   "outputs": [],
   "source": []
  }
 ],
 "metadata": {
  "kernelspec": {
   "display_name": "Python 3",
   "language": "python",
   "name": "python3"
  },
  "language_info": {
   "codemirror_mode": {
    "name": "ipython",
    "version": 3
   },
   "file_extension": ".py",
   "mimetype": "text/x-python",
   "name": "python",
   "nbconvert_exporter": "python",
   "pygments_lexer": "ipython3",
   "version": "3.8.3"
  }
 },
 "nbformat": 4,
 "nbformat_minor": 5
}
